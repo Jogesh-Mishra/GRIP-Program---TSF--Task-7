{
 "cells": [
  {
   "cell_type": "markdown",
   "metadata": {},
   "source": [
    "# Task #7 by Jogesh Mishra "
   ]
  },
  {
   "cell_type": "markdown",
   "metadata": {},
   "source": [
    "### The task demands to form a model using the Numerical as well as Textual analysis of Stock Market Prices and News Headlines respectively. "
   ]
  },
  {
   "cell_type": "markdown",
   "metadata": {},
   "source": [
    "## Importing the required libraries :"
   ]
  },
  {
   "cell_type": "code",
   "execution_count": 1,
   "metadata": {},
   "outputs": [
    {
     "name": "stderr",
     "output_type": "stream",
     "text": [
      "Using TensorFlow backend.\n"
     ]
    }
   ],
   "source": [
    "import pandas as pd\n",
    "import numpy as np\n",
    "import matplotlib.pyplot as plt\n",
    "from sklearn import preprocessing\n",
    "import keras\n",
    "from keras.models import Sequential\n",
    "from keras.layers import Dense, LSTM,Dropout,Activation\n",
    "import nltk\n",
    "from nltk.sentiment.vader import SentimentIntensityAnalyzer"
   ]
  },
  {
   "cell_type": "markdown",
   "metadata": {},
   "source": [
    "#### Incase you don't have 'vader_lexicon' package of nltk downloaded, we can run the dollowing snippet : "
   ]
  },
  {
   "cell_type": "markdown",
   "metadata": {},
   "source": [
    "###### This is important for SentimentIntensityAnalyzer from nltk.sentiment.vader"
   ]
  },
  {
   "cell_type": "code",
   "execution_count": 2,
   "metadata": {},
   "outputs": [
    {
     "name": "stderr",
     "output_type": "stream",
     "text": [
      "[nltk_data] Error loading vader_lexicon: <urlopen error [Errno 11001]\n",
      "[nltk_data]     getaddrinfo failed>\n"
     ]
    },
    {
     "data": {
      "text/plain": [
       "False"
      ]
     },
     "execution_count": 2,
     "metadata": {},
     "output_type": "execute_result"
    }
   ],
   "source": [
    "nltk.download('vader_lexicon')"
   ]
  },
  {
   "cell_type": "markdown",
   "metadata": {},
   "source": [
    "# Load the Datasets \n",
    "\n",
    "<b>'BSESN.csv'</b> has downloaded from https://bit.ly/3kXTdox and \n",
    "<b>'india-news-headlines.csv'</b> has been downloaded from https://bit.ly/3kXTdox \n"
   ]
  },
  {
   "cell_type": "code",
   "execution_count": 3,
   "metadata": {},
   "outputs": [],
   "source": [
    "stock_price = pd.read_csv('BSESN.csv')\n",
    "headlines = pd.read_csv('india-news-headlines.csv')"
   ]
  },
  {
   "cell_type": "markdown",
   "metadata": {},
   "source": [
    "## Preliminary actions on stock_price dataset :"
   ]
  },
  {
   "cell_type": "code",
   "execution_count": 4,
   "metadata": {},
   "outputs": [
    {
     "data": {
      "text/plain": [
       "(5981, 7)"
      ]
     },
     "execution_count": 4,
     "metadata": {},
     "output_type": "execute_result"
    }
   ],
   "source": [
    "stock_price.shape"
   ]
  },
  {
   "cell_type": "markdown",
   "metadata": {},
   "source": [
    "##### Checking for null values and dropping the respective rows(if any) :"
   ]
  },
  {
   "cell_type": "code",
   "execution_count": 5,
   "metadata": {},
   "outputs": [
    {
     "data": {
      "text/plain": [
       "Date            0\n",
       "Open         1034\n",
       "High         1034\n",
       "Low          1034\n",
       "Close        1034\n",
       "Adj Close    1034\n",
       "Volume       1034\n",
       "dtype: int64"
      ]
     },
     "execution_count": 5,
     "metadata": {},
     "output_type": "execute_result"
    }
   ],
   "source": [
    "stock_price.isna().sum()"
   ]
  },
  {
   "cell_type": "code",
   "execution_count": 6,
   "metadata": {},
   "outputs": [],
   "source": [
    "stock_price.dropna(axis=0,inplace=True)"
   ]
  },
  {
   "cell_type": "markdown",
   "metadata": {},
   "source": [
    "#### Converting the Date column of stock_prices to DateTime object to arrange the given prices according to the date in increasing order :"
   ]
  },
  {
   "cell_type": "code",
   "execution_count": 7,
   "metadata": {},
   "outputs": [
    {
     "data": {
      "text/html": [
       "<div>\n",
       "<style scoped>\n",
       "    .dataframe tbody tr th:only-of-type {\n",
       "        vertical-align: middle;\n",
       "    }\n",
       "\n",
       "    .dataframe tbody tr th {\n",
       "        vertical-align: top;\n",
       "    }\n",
       "\n",
       "    .dataframe thead th {\n",
       "        text-align: right;\n",
       "    }\n",
       "</style>\n",
       "<table border=\"1\" class=\"dataframe\">\n",
       "  <thead>\n",
       "    <tr style=\"text-align: right;\">\n",
       "      <th></th>\n",
       "      <th>Open</th>\n",
       "      <th>High</th>\n",
       "      <th>Low</th>\n",
       "      <th>Close</th>\n",
       "      <th>Adj Close</th>\n",
       "      <th>Volume</th>\n",
       "    </tr>\n",
       "    <tr>\n",
       "      <th>Date</th>\n",
       "      <th></th>\n",
       "      <th></th>\n",
       "      <th></th>\n",
       "      <th></th>\n",
       "      <th></th>\n",
       "      <th></th>\n",
       "    </tr>\n",
       "  </thead>\n",
       "  <tbody>\n",
       "    <tr>\n",
       "      <th>2001-01-02</th>\n",
       "      <td>1331.00</td>\n",
       "      <td>1336.75</td>\n",
       "      <td>1289.25</td>\n",
       "      <td>1300.0</td>\n",
       "      <td>1300.0</td>\n",
       "      <td>92668.0</td>\n",
       "    </tr>\n",
       "    <tr>\n",
       "      <th>2001-01-03</th>\n",
       "      <td>1301.00</td>\n",
       "      <td>1367.25</td>\n",
       "      <td>1288.75</td>\n",
       "      <td>1359.0</td>\n",
       "      <td>1359.0</td>\n",
       "      <td>130684.0</td>\n",
       "    </tr>\n",
       "    <tr>\n",
       "      <th>2001-01-04</th>\n",
       "      <td>1360.00</td>\n",
       "      <td>1365.50</td>\n",
       "      <td>1341.50</td>\n",
       "      <td>1349.0</td>\n",
       "      <td>1349.0</td>\n",
       "      <td>110846.0</td>\n",
       "    </tr>\n",
       "    <tr>\n",
       "      <th>2001-01-05</th>\n",
       "      <td>1345.75</td>\n",
       "      <td>1380.00</td>\n",
       "      <td>1303.00</td>\n",
       "      <td>1304.0</td>\n",
       "      <td>1304.0</td>\n",
       "      <td>117776.0</td>\n",
       "    </tr>\n",
       "    <tr>\n",
       "      <th>2001-01-08</th>\n",
       "      <td>1308.25</td>\n",
       "      <td>1312.50</td>\n",
       "      <td>1287.50</td>\n",
       "      <td>1309.5</td>\n",
       "      <td>1309.5</td>\n",
       "      <td>120010.0</td>\n",
       "    </tr>\n",
       "  </tbody>\n",
       "</table>\n",
       "</div>"
      ],
      "text/plain": [
       "               Open     High      Low   Close  Adj Close    Volume\n",
       "Date                                                              \n",
       "2001-01-02  1331.00  1336.75  1289.25  1300.0     1300.0   92668.0\n",
       "2001-01-03  1301.00  1367.25  1288.75  1359.0     1359.0  130684.0\n",
       "2001-01-04  1360.00  1365.50  1341.50  1349.0     1349.0  110846.0\n",
       "2001-01-05  1345.75  1380.00  1303.00  1304.0     1304.0  117776.0\n",
       "2001-01-08  1308.25  1312.50  1287.50  1309.5     1309.5  120010.0"
      ]
     },
     "execution_count": 7,
     "metadata": {},
     "output_type": "execute_result"
    }
   ],
   "source": [
    "stock_price['Date'] = pd.to_datetime(stock_price['Date']).dt.normalize()\n",
    "stock_price.sort_values('Date',ascending=True)\n",
    "stock_price.set_index('Date',inplace=True)\n",
    "stock_price.head(5)"
   ]
  },
  {
   "cell_type": "markdown",
   "metadata": {},
   "source": [
    "## Preliminary actions on headlines dataset :"
   ]
  },
  {
   "cell_type": "markdown",
   "metadata": {},
   "source": [
    "#### Checking if any value is duplicated and dropping the rows with duplicate values (if any) :"
   ]
  },
  {
   "cell_type": "code",
   "execution_count": 8,
   "metadata": {},
   "outputs": [
    {
     "data": {
      "text/plain": [
       "21585"
      ]
     },
     "execution_count": 8,
     "metadata": {},
     "output_type": "execute_result"
    }
   ],
   "source": [
    "headlines.duplicated().sum()"
   ]
  },
  {
   "cell_type": "code",
   "execution_count": 9,
   "metadata": {},
   "outputs": [
    {
     "data": {
      "text/html": [
       "<div>\n",
       "<style scoped>\n",
       "    .dataframe tbody tr th:only-of-type {\n",
       "        vertical-align: middle;\n",
       "    }\n",
       "\n",
       "    .dataframe tbody tr th {\n",
       "        vertical-align: top;\n",
       "    }\n",
       "\n",
       "    .dataframe thead th {\n",
       "        text-align: right;\n",
       "    }\n",
       "</style>\n",
       "<table border=\"1\" class=\"dataframe\">\n",
       "  <thead>\n",
       "    <tr style=\"text-align: right;\">\n",
       "      <th></th>\n",
       "      <th>publish_date</th>\n",
       "      <th>headline_category</th>\n",
       "      <th>headline_text</th>\n",
       "    </tr>\n",
       "  </thead>\n",
       "  <tbody>\n",
       "    <tr>\n",
       "      <th>0</th>\n",
       "      <td>20010101</td>\n",
       "      <td>sports.wwe</td>\n",
       "      <td>win over cena satisfying but defeating underta...</td>\n",
       "    </tr>\n",
       "    <tr>\n",
       "      <th>1</th>\n",
       "      <td>20010102</td>\n",
       "      <td>unknown</td>\n",
       "      <td>Status quo will not be disturbed at Ayodhya; s...</td>\n",
       "    </tr>\n",
       "    <tr>\n",
       "      <th>2</th>\n",
       "      <td>20010102</td>\n",
       "      <td>unknown</td>\n",
       "      <td>Fissures in Hurriyat over Pak visit</td>\n",
       "    </tr>\n",
       "    <tr>\n",
       "      <th>3</th>\n",
       "      <td>20010102</td>\n",
       "      <td>unknown</td>\n",
       "      <td>America's unwanted heading for India?</td>\n",
       "    </tr>\n",
       "    <tr>\n",
       "      <th>4</th>\n",
       "      <td>20010102</td>\n",
       "      <td>unknown</td>\n",
       "      <td>For bigwigs; it is destination Goa</td>\n",
       "    </tr>\n",
       "  </tbody>\n",
       "</table>\n",
       "</div>"
      ],
      "text/plain": [
       "   publish_date headline_category  \\\n",
       "0      20010101        sports.wwe   \n",
       "1      20010102           unknown   \n",
       "2      20010102           unknown   \n",
       "3      20010102           unknown   \n",
       "4      20010102           unknown   \n",
       "\n",
       "                                       headline_text  \n",
       "0  win over cena satisfying but defeating underta...  \n",
       "1  Status quo will not be disturbed at Ayodhya; s...  \n",
       "2                Fissures in Hurriyat over Pak visit  \n",
       "3              America's unwanted heading for India?  \n",
       "4                 For bigwigs; it is destination Goa  "
      ]
     },
     "execution_count": 9,
     "metadata": {},
     "output_type": "execute_result"
    }
   ],
   "source": [
    "headlines = headlines.drop_duplicates()\n",
    "headlines.head(5)"
   ]
  },
  {
   "cell_type": "markdown",
   "metadata": {},
   "source": [
    "#### Checking for null values and dropping the respective rows (if any) :"
   ]
  },
  {
   "cell_type": "code",
   "execution_count": 10,
   "metadata": {},
   "outputs": [
    {
     "data": {
      "text/plain": [
       "publish_date         0\n",
       "headline_category    0\n",
       "headline_text        0\n",
       "dtype: int64"
      ]
     },
     "execution_count": 10,
     "metadata": {},
     "output_type": "execute_result"
    }
   ],
   "source": [
    "headlines.isnull().sum()"
   ]
  },
  {
   "cell_type": "markdown",
   "metadata": {},
   "source": [
    "#### Selecting only the 'publish_date' and 'headline_text column' from headlines dataset :"
   ]
  },
  {
   "cell_type": "code",
   "execution_count": 11,
   "metadata": {},
   "outputs": [],
   "source": [
    "headlines = headlines.filter(['publish_date','headline_text'])"
   ]
  },
  {
   "cell_type": "markdown",
   "metadata": {},
   "source": [
    "#### As the date in publish_date column is not in right format, so we first bring it to the right format by string manipulation and later convert it to DateTime object :"
   ]
  },
  {
   "cell_type": "code",
   "execution_count": 12,
   "metadata": {},
   "outputs": [],
   "source": [
    "headlines['publish_date'] = headlines['publish_date'].astype(str)\n",
    "headlines['publish_date'] = headlines['publish_date'].apply(lambda x : x[0:4]+'-'+x[4:6]+'-'+x[6:])\n",
    "headlines['publish_date'] = pd.to_datetime(headlines['publish_date']).dt.normalize()"
   ]
  },
  {
   "cell_type": "markdown",
   "metadata": {},
   "source": [
    "#### Grouping the headlines accordding to the publish_date so that all the headlines for a particular date can be kept in a single row, thus reducing the dimensionality of the dataset :"
   ]
  },
  {
   "cell_type": "code",
   "execution_count": 13,
   "metadata": {},
   "outputs": [],
   "source": [
    "headlines = headlines.groupby('publish_date')['headline_text'].apply(lambda x : ''.join(x)).reset_index()"
   ]
  },
  {
   "cell_type": "markdown",
   "metadata": {},
   "source": [
    "#### Changing the index of headlines dataset to 'publish_date' column and sorting the values according to increasing value of index : "
   ]
  },
  {
   "cell_type": "code",
   "execution_count": 14,
   "metadata": {},
   "outputs": [
    {
     "data": {
      "text/html": [
       "<div>\n",
       "<style scoped>\n",
       "    .dataframe tbody tr th:only-of-type {\n",
       "        vertical-align: middle;\n",
       "    }\n",
       "\n",
       "    .dataframe tbody tr th {\n",
       "        vertical-align: top;\n",
       "    }\n",
       "\n",
       "    .dataframe thead th {\n",
       "        text-align: right;\n",
       "    }\n",
       "</style>\n",
       "<table border=\"1\" class=\"dataframe\">\n",
       "  <thead>\n",
       "    <tr style=\"text-align: right;\">\n",
       "      <th></th>\n",
       "      <th>headline_text</th>\n",
       "    </tr>\n",
       "    <tr>\n",
       "      <th>publish_date</th>\n",
       "      <th></th>\n",
       "    </tr>\n",
       "  </thead>\n",
       "  <tbody>\n",
       "    <tr>\n",
       "      <th>2001-01-01</th>\n",
       "      <td>win over cena satisfying but defeating underta...</td>\n",
       "    </tr>\n",
       "    <tr>\n",
       "      <th>2001-01-02</th>\n",
       "      <td>Status quo will not be disturbed at Ayodhya; s...</td>\n",
       "    </tr>\n",
       "    <tr>\n",
       "      <th>2001-01-03</th>\n",
       "      <td>Powerless north India gropes in the darkThink ...</td>\n",
       "    </tr>\n",
       "    <tr>\n",
       "      <th>2001-01-04</th>\n",
       "      <td>The string that pulled Stephen Hawking to Indi...</td>\n",
       "    </tr>\n",
       "    <tr>\n",
       "      <th>2001-01-05</th>\n",
       "      <td>Light combat craft takes India into club class...</td>\n",
       "    </tr>\n",
       "    <tr>\n",
       "      <th>...</th>\n",
       "      <td>...</td>\n",
       "    </tr>\n",
       "    <tr>\n",
       "      <th>2020-06-26</th>\n",
       "      <td>Containment zone residents slam high prices ch...</td>\n",
       "    </tr>\n",
       "    <tr>\n",
       "      <th>2020-06-27</th>\n",
       "      <td>like me i wont let you have a toxic relationsh...</td>\n",
       "    </tr>\n",
       "    <tr>\n",
       "      <th>2020-06-28</th>\n",
       "      <td>Atanu Ghosh plans to rewrite old scripts to ma...</td>\n",
       "    </tr>\n",
       "    <tr>\n",
       "      <th>2020-06-29</th>\n",
       "      <td>6 hot and stylish bikini looks of Katrina Kaif...</td>\n",
       "    </tr>\n",
       "    <tr>\n",
       "      <th>2020-06-30</th>\n",
       "      <td>Detective Byomkesh Bakshy!Edge of TomorrowFirs...</td>\n",
       "    </tr>\n",
       "  </tbody>\n",
       "</table>\n",
       "<p>7080 rows × 1 columns</p>\n",
       "</div>"
      ],
      "text/plain": [
       "                                                  headline_text\n",
       "publish_date                                                   \n",
       "2001-01-01    win over cena satisfying but defeating underta...\n",
       "2001-01-02    Status quo will not be disturbed at Ayodhya; s...\n",
       "2001-01-03    Powerless north India gropes in the darkThink ...\n",
       "2001-01-04    The string that pulled Stephen Hawking to Indi...\n",
       "2001-01-05    Light combat craft takes India into club class...\n",
       "...                                                         ...\n",
       "2020-06-26    Containment zone residents slam high prices ch...\n",
       "2020-06-27    like me i wont let you have a toxic relationsh...\n",
       "2020-06-28    Atanu Ghosh plans to rewrite old scripts to ma...\n",
       "2020-06-29    6 hot and stylish bikini looks of Katrina Kaif...\n",
       "2020-06-30    Detective Byomkesh Bakshy!Edge of TomorrowFirs...\n",
       "\n",
       "[7080 rows x 1 columns]"
      ]
     },
     "execution_count": 14,
     "metadata": {},
     "output_type": "execute_result"
    }
   ],
   "source": [
    "headlines.set_index('publish_date',inplace=True)\n",
    "headlines.sort_index()"
   ]
  },
  {
   "cell_type": "markdown",
   "metadata": {},
   "source": [
    "## Concatenating both the datasets to form the required dataframe 'df' :\n",
    "### Dropping the rows with null values taht may occur due to dissimilar index values ."
   ]
  },
  {
   "cell_type": "code",
   "execution_count": 15,
   "metadata": {},
   "outputs": [
    {
     "data": {
      "text/html": [
       "<div>\n",
       "<style scoped>\n",
       "    .dataframe tbody tr th:only-of-type {\n",
       "        vertical-align: middle;\n",
       "    }\n",
       "\n",
       "    .dataframe tbody tr th {\n",
       "        vertical-align: top;\n",
       "    }\n",
       "\n",
       "    .dataframe thead th {\n",
       "        text-align: right;\n",
       "    }\n",
       "</style>\n",
       "<table border=\"1\" class=\"dataframe\">\n",
       "  <thead>\n",
       "    <tr style=\"text-align: right;\">\n",
       "      <th></th>\n",
       "      <th>Open</th>\n",
       "      <th>High</th>\n",
       "      <th>Low</th>\n",
       "      <th>Close</th>\n",
       "      <th>Adj Close</th>\n",
       "      <th>Volume</th>\n",
       "      <th>headline_text</th>\n",
       "    </tr>\n",
       "  </thead>\n",
       "  <tbody>\n",
       "    <tr>\n",
       "      <th>2001-01-02</th>\n",
       "      <td>1331.00</td>\n",
       "      <td>1336.75</td>\n",
       "      <td>1289.25</td>\n",
       "      <td>1300.00</td>\n",
       "      <td>1300.00</td>\n",
       "      <td>92668.0</td>\n",
       "      <td>Status quo will not be disturbed at Ayodhya; s...</td>\n",
       "    </tr>\n",
       "    <tr>\n",
       "      <th>2001-01-03</th>\n",
       "      <td>1301.00</td>\n",
       "      <td>1367.25</td>\n",
       "      <td>1288.75</td>\n",
       "      <td>1359.00</td>\n",
       "      <td>1359.00</td>\n",
       "      <td>130684.0</td>\n",
       "      <td>Powerless north India gropes in the darkThink ...</td>\n",
       "    </tr>\n",
       "    <tr>\n",
       "      <th>2001-01-04</th>\n",
       "      <td>1360.00</td>\n",
       "      <td>1365.50</td>\n",
       "      <td>1341.50</td>\n",
       "      <td>1349.00</td>\n",
       "      <td>1349.00</td>\n",
       "      <td>110846.0</td>\n",
       "      <td>The string that pulled Stephen Hawking to Indi...</td>\n",
       "    </tr>\n",
       "    <tr>\n",
       "      <th>2001-01-05</th>\n",
       "      <td>1345.75</td>\n",
       "      <td>1380.00</td>\n",
       "      <td>1303.00</td>\n",
       "      <td>1304.00</td>\n",
       "      <td>1304.00</td>\n",
       "      <td>117776.0</td>\n",
       "      <td>Light combat craft takes India into club class...</td>\n",
       "    </tr>\n",
       "    <tr>\n",
       "      <th>2001-01-08</th>\n",
       "      <td>1308.25</td>\n",
       "      <td>1312.50</td>\n",
       "      <td>1287.50</td>\n",
       "      <td>1309.50</td>\n",
       "      <td>1309.50</td>\n",
       "      <td>120010.0</td>\n",
       "      <td>Sangh Parivar; Babri panel up the anteFrontrun...</td>\n",
       "    </tr>\n",
       "    <tr>\n",
       "      <th>2001-01-09</th>\n",
       "      <td>1312.00</td>\n",
       "      <td>1325.50</td>\n",
       "      <td>1303.75</td>\n",
       "      <td>1308.75</td>\n",
       "      <td>1308.75</td>\n",
       "      <td>115968.0</td>\n",
       "      <td>Financier Bharat Shah held for alleged links w...</td>\n",
       "    </tr>\n",
       "    <tr>\n",
       "      <th>2001-01-10</th>\n",
       "      <td>1309.50</td>\n",
       "      <td>1328.75</td>\n",
       "      <td>1297.25</td>\n",
       "      <td>1327.00</td>\n",
       "      <td>1327.00</td>\n",
       "      <td>131074.0</td>\n",
       "      <td>Fend for yourselves; Pande tells doctorsBureau...</td>\n",
       "    </tr>\n",
       "    <tr>\n",
       "      <th>2001-01-11</th>\n",
       "      <td>1325.75</td>\n",
       "      <td>1343.50</td>\n",
       "      <td>1319.50</td>\n",
       "      <td>1335.00</td>\n",
       "      <td>1335.00</td>\n",
       "      <td>96098.0</td>\n",
       "      <td>shreyas gopal scores ton as karnataka stay on ...</td>\n",
       "    </tr>\n",
       "    <tr>\n",
       "      <th>2001-01-23</th>\n",
       "      <td>1356.75</td>\n",
       "      <td>1372.75</td>\n",
       "      <td>1348.50</td>\n",
       "      <td>1366.00</td>\n",
       "      <td>1366.00</td>\n",
       "      <td>105167.0</td>\n",
       "      <td>Sonia takes on the Hindutva brigadeCongress ho...</td>\n",
       "    </tr>\n",
       "    <tr>\n",
       "      <th>2001-01-24</th>\n",
       "      <td>1366.25</td>\n",
       "      <td>1379.00</td>\n",
       "      <td>1365.25</td>\n",
       "      <td>1370.25</td>\n",
       "      <td>1370.25</td>\n",
       "      <td>104969.0</td>\n",
       "      <td>Govt extends J&amp;K ceasefire by a monthPeace hin...</td>\n",
       "    </tr>\n",
       "  </tbody>\n",
       "</table>\n",
       "</div>"
      ],
      "text/plain": [
       "               Open     High      Low    Close  Adj Close    Volume  \\\n",
       "2001-01-02  1331.00  1336.75  1289.25  1300.00    1300.00   92668.0   \n",
       "2001-01-03  1301.00  1367.25  1288.75  1359.00    1359.00  130684.0   \n",
       "2001-01-04  1360.00  1365.50  1341.50  1349.00    1349.00  110846.0   \n",
       "2001-01-05  1345.75  1380.00  1303.00  1304.00    1304.00  117776.0   \n",
       "2001-01-08  1308.25  1312.50  1287.50  1309.50    1309.50  120010.0   \n",
       "2001-01-09  1312.00  1325.50  1303.75  1308.75    1308.75  115968.0   \n",
       "2001-01-10  1309.50  1328.75  1297.25  1327.00    1327.00  131074.0   \n",
       "2001-01-11  1325.75  1343.50  1319.50  1335.00    1335.00   96098.0   \n",
       "2001-01-23  1356.75  1372.75  1348.50  1366.00    1366.00  105167.0   \n",
       "2001-01-24  1366.25  1379.00  1365.25  1370.25    1370.25  104969.0   \n",
       "\n",
       "                                                headline_text  \n",
       "2001-01-02  Status quo will not be disturbed at Ayodhya; s...  \n",
       "2001-01-03  Powerless north India gropes in the darkThink ...  \n",
       "2001-01-04  The string that pulled Stephen Hawking to Indi...  \n",
       "2001-01-05  Light combat craft takes India into club class...  \n",
       "2001-01-08  Sangh Parivar; Babri panel up the anteFrontrun...  \n",
       "2001-01-09  Financier Bharat Shah held for alleged links w...  \n",
       "2001-01-10  Fend for yourselves; Pande tells doctorsBureau...  \n",
       "2001-01-11  shreyas gopal scores ton as karnataka stay on ...  \n",
       "2001-01-23  Sonia takes on the Hindutva brigadeCongress ho...  \n",
       "2001-01-24  Govt extends J&K ceasefire by a monthPeace hin...  "
      ]
     },
     "execution_count": 15,
     "metadata": {},
     "output_type": "execute_result"
    }
   ],
   "source": [
    "df = pd.concat([stock_price,headlines],axis=1)\n",
    "df.dropna(axis=0,inplace=True)\n",
    "df.head(10)"
   ]
  },
  {
   "cell_type": "markdown",
   "metadata": {},
   "source": [
    "#### Pre-requisite : We need 'vader_lexicon' package for SentimentIntensityAnalyzer\n",
    "\n",
    "### Detecting the compound sentiment of the headline_texts and saving the value in 'compound' column of 'df' :"
   ]
  },
  {
   "cell_type": "code",
   "execution_count": 16,
   "metadata": {},
   "outputs": [
    {
     "data": {
      "text/html": [
       "<div>\n",
       "<style scoped>\n",
       "    .dataframe tbody tr th:only-of-type {\n",
       "        vertical-align: middle;\n",
       "    }\n",
       "\n",
       "    .dataframe tbody tr th {\n",
       "        vertical-align: top;\n",
       "    }\n",
       "\n",
       "    .dataframe thead th {\n",
       "        text-align: right;\n",
       "    }\n",
       "</style>\n",
       "<table border=\"1\" class=\"dataframe\">\n",
       "  <thead>\n",
       "    <tr style=\"text-align: right;\">\n",
       "      <th></th>\n",
       "      <th>Open</th>\n",
       "      <th>High</th>\n",
       "      <th>Low</th>\n",
       "      <th>Close</th>\n",
       "      <th>Adj Close</th>\n",
       "      <th>Volume</th>\n",
       "      <th>headline_text</th>\n",
       "      <th>compound</th>\n",
       "    </tr>\n",
       "  </thead>\n",
       "  <tbody>\n",
       "    <tr>\n",
       "      <th>2001-01-02</th>\n",
       "      <td>1331.00</td>\n",
       "      <td>1336.75</td>\n",
       "      <td>1289.25</td>\n",
       "      <td>1300.0</td>\n",
       "      <td>1300.0</td>\n",
       "      <td>92668.0</td>\n",
       "      <td>Status quo will not be disturbed at Ayodhya; s...</td>\n",
       "      <td>-0.9621</td>\n",
       "    </tr>\n",
       "    <tr>\n",
       "      <th>2001-01-03</th>\n",
       "      <td>1301.00</td>\n",
       "      <td>1367.25</td>\n",
       "      <td>1288.75</td>\n",
       "      <td>1359.0</td>\n",
       "      <td>1359.0</td>\n",
       "      <td>130684.0</td>\n",
       "      <td>Powerless north India gropes in the darkThink ...</td>\n",
       "      <td>0.6322</td>\n",
       "    </tr>\n",
       "    <tr>\n",
       "      <th>2001-01-04</th>\n",
       "      <td>1360.00</td>\n",
       "      <td>1365.50</td>\n",
       "      <td>1341.50</td>\n",
       "      <td>1349.0</td>\n",
       "      <td>1349.0</td>\n",
       "      <td>110846.0</td>\n",
       "      <td>The string that pulled Stephen Hawking to Indi...</td>\n",
       "      <td>0.6648</td>\n",
       "    </tr>\n",
       "    <tr>\n",
       "      <th>2001-01-05</th>\n",
       "      <td>1345.75</td>\n",
       "      <td>1380.00</td>\n",
       "      <td>1303.00</td>\n",
       "      <td>1304.0</td>\n",
       "      <td>1304.0</td>\n",
       "      <td>117776.0</td>\n",
       "      <td>Light combat craft takes India into club class...</td>\n",
       "      <td>0.9253</td>\n",
       "    </tr>\n",
       "    <tr>\n",
       "      <th>2001-01-08</th>\n",
       "      <td>1308.25</td>\n",
       "      <td>1312.50</td>\n",
       "      <td>1287.50</td>\n",
       "      <td>1309.5</td>\n",
       "      <td>1309.5</td>\n",
       "      <td>120010.0</td>\n",
       "      <td>Sangh Parivar; Babri panel up the anteFrontrun...</td>\n",
       "      <td>-0.9638</td>\n",
       "    </tr>\n",
       "  </tbody>\n",
       "</table>\n",
       "</div>"
      ],
      "text/plain": [
       "               Open     High      Low   Close  Adj Close    Volume  \\\n",
       "2001-01-02  1331.00  1336.75  1289.25  1300.0     1300.0   92668.0   \n",
       "2001-01-03  1301.00  1367.25  1288.75  1359.0     1359.0  130684.0   \n",
       "2001-01-04  1360.00  1365.50  1341.50  1349.0     1349.0  110846.0   \n",
       "2001-01-05  1345.75  1380.00  1303.00  1304.0     1304.0  117776.0   \n",
       "2001-01-08  1308.25  1312.50  1287.50  1309.5     1309.5  120010.0   \n",
       "\n",
       "                                                headline_text  compound  \n",
       "2001-01-02  Status quo will not be disturbed at Ayodhya; s...   -0.9621  \n",
       "2001-01-03  Powerless north India gropes in the darkThink ...    0.6322  \n",
       "2001-01-04  The string that pulled Stephen Hawking to Indi...    0.6648  \n",
       "2001-01-05  Light combat craft takes India into club class...    0.9253  \n",
       "2001-01-08  Sangh Parivar; Babri panel up the anteFrontrun...   -0.9638  "
      ]
     },
     "execution_count": 16,
     "metadata": {},
     "output_type": "execute_result"
    }
   ],
   "source": [
    "\n",
    "sid = SentimentIntensityAnalyzer()\n",
    "\n",
    "df['compound'] = df['headline_text'].apply(lambda x : sid.polarity_scores(x)['compound'])\n",
    "df.head(5)"
   ]
  },
  {
   "cell_type": "markdown",
   "metadata": {},
   "source": [
    "#### Checking for null values if any :"
   ]
  },
  {
   "cell_type": "code",
   "execution_count": 17,
   "metadata": {},
   "outputs": [
    {
     "data": {
      "text/plain": [
       "Open             0\n",
       "High             0\n",
       "Low              0\n",
       "Close            0\n",
       "Adj Close        0\n",
       "Volume           0\n",
       "headline_text    0\n",
       "compound         0\n",
       "dtype: int64"
      ]
     },
     "execution_count": 17,
     "metadata": {},
     "output_type": "execute_result"
    }
   ],
   "source": [
    "df.isnull().sum()"
   ]
  },
  {
   "cell_type": "markdown",
   "metadata": {},
   "source": [
    "### EDA of the dataset :"
   ]
  },
  {
   "cell_type": "code",
   "execution_count": 18,
   "metadata": {},
   "outputs": [
    {
     "data": {
      "text/html": [
       "<div>\n",
       "<style scoped>\n",
       "    .dataframe tbody tr th:only-of-type {\n",
       "        vertical-align: middle;\n",
       "    }\n",
       "\n",
       "    .dataframe tbody tr th {\n",
       "        vertical-align: top;\n",
       "    }\n",
       "\n",
       "    .dataframe thead th {\n",
       "        text-align: right;\n",
       "    }\n",
       "</style>\n",
       "<table border=\"1\" class=\"dataframe\">\n",
       "  <thead>\n",
       "    <tr style=\"text-align: right;\">\n",
       "      <th></th>\n",
       "      <th>Open</th>\n",
       "      <th>High</th>\n",
       "      <th>Low</th>\n",
       "      <th>Close</th>\n",
       "      <th>Adj Close</th>\n",
       "      <th>Volume</th>\n",
       "      <th>compound</th>\n",
       "    </tr>\n",
       "  </thead>\n",
       "  <tbody>\n",
       "    <tr>\n",
       "      <th>count</th>\n",
       "      <td>4920.000000</td>\n",
       "      <td>4920.000000</td>\n",
       "      <td>4920.000000</td>\n",
       "      <td>4920.000000</td>\n",
       "      <td>4920.000000</td>\n",
       "      <td>4.920000e+03</td>\n",
       "      <td>4920.000000</td>\n",
       "    </tr>\n",
       "    <tr>\n",
       "      <th>mean</th>\n",
       "      <td>1630.062144</td>\n",
       "      <td>1641.527494</td>\n",
       "      <td>1618.092581</td>\n",
       "      <td>1630.794219</td>\n",
       "      <td>1630.794219</td>\n",
       "      <td>1.375471e+06</td>\n",
       "      <td>-0.869538</td>\n",
       "    </tr>\n",
       "    <tr>\n",
       "      <th>std</th>\n",
       "      <td>645.966664</td>\n",
       "      <td>649.090556</td>\n",
       "      <td>643.069552</td>\n",
       "      <td>646.652205</td>\n",
       "      <td>646.652205</td>\n",
       "      <td>8.473146e+05</td>\n",
       "      <td>0.455220</td>\n",
       "    </tr>\n",
       "    <tr>\n",
       "      <th>min</th>\n",
       "      <td>674.750000</td>\n",
       "      <td>694.750000</td>\n",
       "      <td>665.750000</td>\n",
       "      <td>676.000000</td>\n",
       "      <td>676.000000</td>\n",
       "      <td>0.000000e+00</td>\n",
       "      <td>-1.000000</td>\n",
       "    </tr>\n",
       "    <tr>\n",
       "      <th>25%</th>\n",
       "      <td>1144.250000</td>\n",
       "      <td>1154.937500</td>\n",
       "      <td>1136.000000</td>\n",
       "      <td>1144.937500</td>\n",
       "      <td>1144.937500</td>\n",
       "      <td>7.308308e+05</td>\n",
       "      <td>-0.999800</td>\n",
       "    </tr>\n",
       "    <tr>\n",
       "      <th>50%</th>\n",
       "      <td>1359.125000</td>\n",
       "      <td>1369.625000</td>\n",
       "      <td>1349.875000</td>\n",
       "      <td>1359.375000</td>\n",
       "      <td>1359.375000</td>\n",
       "      <td>1.285948e+06</td>\n",
       "      <td>-0.999100</td>\n",
       "    </tr>\n",
       "    <tr>\n",
       "      <th>75%</th>\n",
       "      <td>2068.312500</td>\n",
       "      <td>2079.000000</td>\n",
       "      <td>2052.500000</td>\n",
       "      <td>2069.000000</td>\n",
       "      <td>2069.000000</td>\n",
       "      <td>1.849832e+06</td>\n",
       "      <td>-0.994200</td>\n",
       "    </tr>\n",
       "    <tr>\n",
       "      <th>max</th>\n",
       "      <td>3391.750000</td>\n",
       "      <td>3397.500000</td>\n",
       "      <td>3382.000000</td>\n",
       "      <td>3388.250000</td>\n",
       "      <td>3388.250000</td>\n",
       "      <td>6.316426e+06</td>\n",
       "      <td>1.000000</td>\n",
       "    </tr>\n",
       "  </tbody>\n",
       "</table>\n",
       "</div>"
      ],
      "text/plain": [
       "              Open         High          Low        Close    Adj Close  \\\n",
       "count  4920.000000  4920.000000  4920.000000  4920.000000  4920.000000   \n",
       "mean   1630.062144  1641.527494  1618.092581  1630.794219  1630.794219   \n",
       "std     645.966664   649.090556   643.069552   646.652205   646.652205   \n",
       "min     674.750000   694.750000   665.750000   676.000000   676.000000   \n",
       "25%    1144.250000  1154.937500  1136.000000  1144.937500  1144.937500   \n",
       "50%    1359.125000  1369.625000  1349.875000  1359.375000  1359.375000   \n",
       "75%    2068.312500  2079.000000  2052.500000  2069.000000  2069.000000   \n",
       "max    3391.750000  3397.500000  3382.000000  3388.250000  3388.250000   \n",
       "\n",
       "             Volume     compound  \n",
       "count  4.920000e+03  4920.000000  \n",
       "mean   1.375471e+06    -0.869538  \n",
       "std    8.473146e+05     0.455220  \n",
       "min    0.000000e+00    -1.000000  \n",
       "25%    7.308308e+05    -0.999800  \n",
       "50%    1.285948e+06    -0.999100  \n",
       "75%    1.849832e+06    -0.994200  \n",
       "max    6.316426e+06     1.000000  "
      ]
     },
     "execution_count": 18,
     "metadata": {},
     "output_type": "execute_result"
    }
   ],
   "source": [
    "df.describe()"
   ]
  },
  {
   "cell_type": "code",
   "execution_count": 19,
   "metadata": {},
   "outputs": [
    {
     "name": "stdout",
     "output_type": "stream",
     "text": [
      "<class 'pandas.core.frame.DataFrame'>\n",
      "DatetimeIndex: 4920 entries, 2001-01-02 to 2020-06-29\n",
      "Data columns (total 8 columns):\n",
      " #   Column         Non-Null Count  Dtype  \n",
      "---  ------         --------------  -----  \n",
      " 0   Open           4920 non-null   float64\n",
      " 1   High           4920 non-null   float64\n",
      " 2   Low            4920 non-null   float64\n",
      " 3   Close          4920 non-null   float64\n",
      " 4   Adj Close      4920 non-null   float64\n",
      " 5   Volume         4920 non-null   float64\n",
      " 6   headline_text  4920 non-null   object \n",
      " 7   compound       4920 non-null   float64\n",
      "dtypes: float64(7), object(1)\n",
      "memory usage: 345.9+ KB\n"
     ]
    }
   ],
   "source": [
    "df.info()"
   ]
  },
  {
   "cell_type": "markdown",
   "metadata": {},
   "source": [
    "#### Plotting the close price for every date of the dataframe df :"
   ]
  },
  {
   "cell_type": "code",
   "execution_count": 20,
   "metadata": {},
   "outputs": [
    {
     "data": {
      "image/png": "[encoded data removed]",
      "text/plain": [
       "<Figure size 432x288 with 1 Axes>"
      ]
     },
     "metadata": {
      "needs_background": "light"
     },
     "output_type": "display_data"
    }
   ],
   "source": [
    "df['Close'].plot()\n",
    "plt.title('Close Price')\n",
    "plt.xlabel('Date')\n",
    "plt.ylabel('Close Price')\n",
    "plt.show()"
   ]
  },
  {
   "cell_type": "markdown",
   "metadata": {},
   "source": [
    "#### Shifting the index by 7 rows with the mean value to see the change in plot for the close price in this condition :"
   ]
  },
  {
   "cell_type": "markdown",
   "metadata": {},
   "source": [
    "The NaN values are just for visualization purpose to see the rigidness of stock_price on a week gap."
   ]
  },
  {
   "cell_type": "code",
   "execution_count": 21,
   "metadata": {},
   "outputs": [
    {
     "data": {
      "text/html": [
       "<div>\n",
       "<style scoped>\n",
       "    .dataframe tbody tr th:only-of-type {\n",
       "        vertical-align: middle;\n",
       "    }\n",
       "\n",
       "    .dataframe tbody tr th {\n",
       "        vertical-align: top;\n",
       "    }\n",
       "\n",
       "    .dataframe thead th {\n",
       "        text-align: right;\n",
       "    }\n",
       "</style>\n",
       "<table border=\"1\" class=\"dataframe\">\n",
       "  <thead>\n",
       "    <tr style=\"text-align: right;\">\n",
       "      <th></th>\n",
       "      <th>Open</th>\n",
       "      <th>High</th>\n",
       "      <th>Low</th>\n",
       "      <th>Close</th>\n",
       "      <th>Adj Close</th>\n",
       "      <th>Volume</th>\n",
       "      <th>compound</th>\n",
       "    </tr>\n",
       "  </thead>\n",
       "  <tbody>\n",
       "    <tr>\n",
       "      <th>2001-01-02</th>\n",
       "      <td>NaN</td>\n",
       "      <td>NaN</td>\n",
       "      <td>NaN</td>\n",
       "      <td>NaN</td>\n",
       "      <td>NaN</td>\n",
       "      <td>NaN</td>\n",
       "      <td>NaN</td>\n",
       "    </tr>\n",
       "    <tr>\n",
       "      <th>2001-01-03</th>\n",
       "      <td>NaN</td>\n",
       "      <td>NaN</td>\n",
       "      <td>NaN</td>\n",
       "      <td>NaN</td>\n",
       "      <td>NaN</td>\n",
       "      <td>NaN</td>\n",
       "      <td>NaN</td>\n",
       "    </tr>\n",
       "    <tr>\n",
       "      <th>2001-01-04</th>\n",
       "      <td>NaN</td>\n",
       "      <td>NaN</td>\n",
       "      <td>NaN</td>\n",
       "      <td>NaN</td>\n",
       "      <td>NaN</td>\n",
       "      <td>NaN</td>\n",
       "      <td>NaN</td>\n",
       "    </tr>\n",
       "    <tr>\n",
       "      <th>2001-01-05</th>\n",
       "      <td>NaN</td>\n",
       "      <td>NaN</td>\n",
       "      <td>NaN</td>\n",
       "      <td>NaN</td>\n",
       "      <td>NaN</td>\n",
       "      <td>NaN</td>\n",
       "      <td>NaN</td>\n",
       "    </tr>\n",
       "    <tr>\n",
       "      <th>2001-01-08</th>\n",
       "      <td>NaN</td>\n",
       "      <td>NaN</td>\n",
       "      <td>NaN</td>\n",
       "      <td>NaN</td>\n",
       "      <td>NaN</td>\n",
       "      <td>NaN</td>\n",
       "      <td>NaN</td>\n",
       "    </tr>\n",
       "    <tr>\n",
       "      <th>2001-01-09</th>\n",
       "      <td>NaN</td>\n",
       "      <td>NaN</td>\n",
       "      <td>NaN</td>\n",
       "      <td>NaN</td>\n",
       "      <td>NaN</td>\n",
       "      <td>NaN</td>\n",
       "      <td>NaN</td>\n",
       "    </tr>\n",
       "    <tr>\n",
       "      <th>2001-01-10</th>\n",
       "      <td>1323.928571</td>\n",
       "      <td>1345.178571</td>\n",
       "      <td>1301.571429</td>\n",
       "      <td>1322.464286</td>\n",
       "      <td>1322.464286</td>\n",
       "      <td>117003.714286</td>\n",
       "      <td>-0.175914</td>\n",
       "    </tr>\n",
       "    <tr>\n",
       "      <th>2001-01-11</th>\n",
       "      <td>1323.178571</td>\n",
       "      <td>1346.142857</td>\n",
       "      <td>1305.892857</td>\n",
       "      <td>1327.464286</td>\n",
       "      <td>1327.464286</td>\n",
       "      <td>117493.714286</td>\n",
       "      <td>-0.038471</td>\n",
       "    </tr>\n",
       "    <tr>\n",
       "      <th>2001-01-23</th>\n",
       "      <td>1331.142857</td>\n",
       "      <td>1346.928571</td>\n",
       "      <td>1314.428571</td>\n",
       "      <td>1328.464286</td>\n",
       "      <td>1328.464286</td>\n",
       "      <td>113848.428571</td>\n",
       "      <td>0.004000</td>\n",
       "    </tr>\n",
       "    <tr>\n",
       "      <th>2001-01-24</th>\n",
       "      <td>1332.035714</td>\n",
       "      <td>1348.857143</td>\n",
       "      <td>1317.821429</td>\n",
       "      <td>1331.500000</td>\n",
       "      <td>1331.500000</td>\n",
       "      <td>113008.857143</td>\n",
       "      <td>-0.220100</td>\n",
       "    </tr>\n",
       "    <tr>\n",
       "      <th>2001-01-25</th>\n",
       "      <td>1335.464286</td>\n",
       "      <td>1348.678571</td>\n",
       "      <td>1326.357143</td>\n",
       "      <td>1340.214286</td>\n",
       "      <td>1340.214286</td>\n",
       "      <td>110555.285714</td>\n",
       "      <td>-0.492829</td>\n",
       "    </tr>\n",
       "    <tr>\n",
       "      <th>2001-01-26</th>\n",
       "      <td>1343.464286</td>\n",
       "      <td>1356.428571</td>\n",
       "      <td>1335.321429</td>\n",
       "      <td>1347.892857</td>\n",
       "      <td>1347.892857</td>\n",
       "      <td>111827.857143</td>\n",
       "      <td>-0.227629</td>\n",
       "    </tr>\n",
       "    <tr>\n",
       "      <th>2001-01-29</th>\n",
       "      <td>1350.750000</td>\n",
       "      <td>1363.357143</td>\n",
       "      <td>1343.142857</td>\n",
       "      <td>1356.642857</td>\n",
       "      <td>1356.642857</td>\n",
       "      <td>104469.428571</td>\n",
       "      <td>0.047457</td>\n",
       "    </tr>\n",
       "    <tr>\n",
       "      <th>2001-01-30</th>\n",
       "      <td>1359.428571</td>\n",
       "      <td>1371.285714</td>\n",
       "      <td>1352.571429</td>\n",
       "      <td>1364.607143</td>\n",
       "      <td>1364.607143</td>\n",
       "      <td>96483.000000</td>\n",
       "      <td>0.006586</td>\n",
       "    </tr>\n",
       "    <tr>\n",
       "      <th>2001-01-31</th>\n",
       "      <td>1367.321429</td>\n",
       "      <td>1378.500000</td>\n",
       "      <td>1359.964286</td>\n",
       "      <td>1370.107143</td>\n",
       "      <td>1370.107143</td>\n",
       "      <td>95497.428571</td>\n",
       "      <td>-0.073286</td>\n",
       "    </tr>\n",
       "    <tr>\n",
       "      <th>2001-02-01</th>\n",
       "      <td>1369.714286</td>\n",
       "      <td>1380.035714</td>\n",
       "      <td>1362.500000</td>\n",
       "      <td>1372.464286</td>\n",
       "      <td>1372.464286</td>\n",
       "      <td>94925.000000</td>\n",
       "      <td>-0.324671</td>\n",
       "    </tr>\n",
       "    <tr>\n",
       "      <th>2001-02-02</th>\n",
       "      <td>1372.035714</td>\n",
       "      <td>1381.035714</td>\n",
       "      <td>1360.714286</td>\n",
       "      <td>1370.035714</td>\n",
       "      <td>1370.035714</td>\n",
       "      <td>106411.142857</td>\n",
       "      <td>-0.057071</td>\n",
       "    </tr>\n",
       "    <tr>\n",
       "      <th>2001-02-05</th>\n",
       "      <td>1369.821429</td>\n",
       "      <td>1378.785714</td>\n",
       "      <td>1359.071429</td>\n",
       "      <td>1369.607143</td>\n",
       "      <td>1369.607143</td>\n",
       "      <td>105294.714286</td>\n",
       "      <td>0.158714</td>\n",
       "    </tr>\n",
       "    <tr>\n",
       "      <th>2001-02-06</th>\n",
       "      <td>1369.607143</td>\n",
       "      <td>1379.321429</td>\n",
       "      <td>1359.892857</td>\n",
       "      <td>1368.607143</td>\n",
       "      <td>1368.607143</td>\n",
       "      <td>99968.000000</td>\n",
       "      <td>0.140486</td>\n",
       "    </tr>\n",
       "    <tr>\n",
       "      <th>2001-02-07</th>\n",
       "      <td>1368.464286</td>\n",
       "      <td>1376.821429</td>\n",
       "      <td>1357.178571</td>\n",
       "      <td>1365.678571</td>\n",
       "      <td>1365.678571</td>\n",
       "      <td>105870.857143</td>\n",
       "      <td>0.121786</td>\n",
       "    </tr>\n",
       "  </tbody>\n",
       "</table>\n",
       "</div>"
      ],
      "text/plain": [
       "                   Open         High          Low        Close    Adj Close  \\\n",
       "2001-01-02          NaN          NaN          NaN          NaN          NaN   \n",
       "2001-01-03          NaN          NaN          NaN          NaN          NaN   \n",
       "2001-01-04          NaN          NaN          NaN          NaN          NaN   \n",
       "2001-01-05          NaN          NaN          NaN          NaN          NaN   \n",
       "2001-01-08          NaN          NaN          NaN          NaN          NaN   \n",
       "2001-01-09          NaN          NaN          NaN          NaN          NaN   \n",
       "2001-01-10  1323.928571  1345.178571  1301.571429  1322.464286  1322.464286   \n",
       "2001-01-11  1323.178571  1346.142857  1305.892857  1327.464286  1327.464286   \n",
       "2001-01-23  1331.142857  1346.928571  1314.428571  1328.464286  1328.464286   \n",
       "2001-01-24  1332.035714  1348.857143  1317.821429  1331.500000  1331.500000   \n",
       "2001-01-25  1335.464286  1348.678571  1326.357143  1340.214286  1340.214286   \n",
       "2001-01-26  1343.464286  1356.428571  1335.321429  1347.892857  1347.892857   \n",
       "2001-01-29  1350.750000  1363.357143  1343.142857  1356.642857  1356.642857   \n",
       "2001-01-30  1359.428571  1371.285714  1352.571429  1364.607143  1364.607143   \n",
       "2001-01-31  1367.321429  1378.500000  1359.964286  1370.107143  1370.107143   \n",
       "2001-02-01  1369.714286  1380.035714  1362.500000  1372.464286  1372.464286   \n",
       "2001-02-02  1372.035714  1381.035714  1360.714286  1370.035714  1370.035714   \n",
       "2001-02-05  1369.821429  1378.785714  1359.071429  1369.607143  1369.607143   \n",
       "2001-02-06  1369.607143  1379.321429  1359.892857  1368.607143  1368.607143   \n",
       "2001-02-07  1368.464286  1376.821429  1357.178571  1365.678571  1365.678571   \n",
       "\n",
       "                   Volume  compound  \n",
       "2001-01-02            NaN       NaN  \n",
       "2001-01-03            NaN       NaN  \n",
       "2001-01-04            NaN       NaN  \n",
       "2001-01-05            NaN       NaN  \n",
       "2001-01-08            NaN       NaN  \n",
       "2001-01-09            NaN       NaN  \n",
       "2001-01-10  117003.714286 -0.175914  \n",
       "2001-01-11  117493.714286 -0.038471  \n",
       "2001-01-23  113848.428571  0.004000  \n",
       "2001-01-24  113008.857143 -0.220100  \n",
       "2001-01-25  110555.285714 -0.492829  \n",
       "2001-01-26  111827.857143 -0.227629  \n",
       "2001-01-29  104469.428571  0.047457  \n",
       "2001-01-30   96483.000000  0.006586  \n",
       "2001-01-31   95497.428571 -0.073286  \n",
       "2001-02-01   94925.000000 -0.324671  \n",
       "2001-02-02  106411.142857 -0.057071  \n",
       "2001-02-05  105294.714286  0.158714  \n",
       "2001-02-06   99968.000000  0.140486  \n",
       "2001-02-07  105870.857143  0.121786  "
      ]
     },
     "execution_count": 21,
     "metadata": {},
     "output_type": "execute_result"
    }
   ],
   "source": [
    "df.rolling(7).mean().head(20)"
   ]
  },
  {
   "cell_type": "code",
   "execution_count": 22,
   "metadata": {},
   "outputs": [
    {
     "data": {
      "image/png": "[encoded data removed]",
      "text/plain": [
       "<Figure size 432x288 with 1 Axes>"
      ]
     },
     "metadata": {
      "needs_background": "light"
     },
     "output_type": "display_data"
    }
   ],
   "source": [
    "df['Close'].plot()\n",
    "df.rolling(window=30).mean()['Close'].plot()\n",
    "plt.title('Close Price')\n",
    "plt.xlabel('Date')\n",
    "plt.ylabel('Close Price')\n",
    "plt.show()"
   ]
  },
  {
   "cell_type": "markdown",
   "metadata": {},
   "source": [
    "## Creating the required part for Train set and Test set :"
   ]
  },
  {
   "cell_type": "markdown",
   "metadata": {},
   "source": [
    "#### We are going to make a model to predict stock price for the next day after an observation."
   ]
  },
  {
   "cell_type": "code",
   "execution_count": 23,
   "metadata": {},
   "outputs": [
    {
     "name": "stdout",
     "output_type": "stream",
     "text": [
      "Length of Training Set is  3935\n",
      "Length of Testing Set is  985\n"
     ]
    }
   ],
   "source": [
    "use_data_size = len(df) - 1\n",
    "train_data_size = int(0.8 * use_data_size)\n",
    "total_data_size = len(df)\n",
    "start_point = total_data_size - use_data_size\n",
    "print(\"Length of Training Set is \",train_data_size)\n",
    "print('Length of Testing Set is ', total_data_size - train_data_size)"
   ]
  },
  {
   "cell_type": "markdown",
   "metadata": {},
   "source": [
    "#### Separating the columns for to make the required dataframe later :"
   ]
  },
  {
   "cell_type": "code",
   "execution_count": 24,
   "metadata": {},
   "outputs": [],
   "source": [
    "close_price = df.iloc[start_point:total_data_size,3]\n",
    "compound = df.iloc[start_point:total_data_size,7]\n",
    "open_price = df.iloc[start_point:total_data_size,0]\n",
    "high = df.iloc[start_point:total_data_size,1]\n",
    "low = df.iloc[start_point:total_data_size,2]\n",
    "volume = df.iloc[start_point:total_data_size,5]"
   ]
  },
  {
   "cell_type": "markdown",
   "metadata": {},
   "source": [
    "#### As we are going to predict the value for each succeeding day, so we need to shift the close_price as well as compound Series from dataframes to the next day :"
   ]
  },
  {
   "cell_type": "code",
   "execution_count": 25,
   "metadata": {},
   "outputs": [],
   "source": [
    "close_price_shifted = close_price.shift(-1)\n",
    "compound_shifted = compound.shift(-1)"
   ]
  },
  {
   "cell_type": "markdown",
   "metadata": {},
   "source": [
    "#### Concatenating all the Series to form the required dataframe for our model  :"
   ]
  },
  {
   "cell_type": "code",
   "execution_count": 26,
   "metadata": {},
   "outputs": [],
   "source": [
    "stock_price_data = pd.DataFrame({\n",
    "    'close':close_price,\n",
    "    'close_price_shifted':close_price_shifted,\n",
    "    'compound':compound,\n",
    "    'compound_shifted':compound_shifted,\n",
    "    'open':open_price,\n",
    "    'high':high,\n",
    "    'low':low,\n",
    "    'volume':volume\n",
    "                                })"
   ]
  },
  {
   "cell_type": "code",
   "execution_count": 27,
   "metadata": {},
   "outputs": [
    {
     "data": {
      "text/html": [
       "<div>\n",
       "<style scoped>\n",
       "    .dataframe tbody tr th:only-of-type {\n",
       "        vertical-align: middle;\n",
       "    }\n",
       "\n",
       "    .dataframe tbody tr th {\n",
       "        vertical-align: top;\n",
       "    }\n",
       "\n",
       "    .dataframe thead th {\n",
       "        text-align: right;\n",
       "    }\n",
       "</style>\n",
       "<table border=\"1\" class=\"dataframe\">\n",
       "  <thead>\n",
       "    <tr style=\"text-align: right;\">\n",
       "      <th></th>\n",
       "      <th>close</th>\n",
       "      <th>close_price_shifted</th>\n",
       "      <th>compound</th>\n",
       "      <th>compound_shifted</th>\n",
       "      <th>open</th>\n",
       "      <th>high</th>\n",
       "      <th>low</th>\n",
       "      <th>volume</th>\n",
       "    </tr>\n",
       "  </thead>\n",
       "  <tbody>\n",
       "    <tr>\n",
       "      <th>2001-01-03</th>\n",
       "      <td>1359.00</td>\n",
       "      <td>1349.00</td>\n",
       "      <td>0.6322</td>\n",
       "      <td>0.6648</td>\n",
       "      <td>1301.00</td>\n",
       "      <td>1367.25</td>\n",
       "      <td>1288.75</td>\n",
       "      <td>130684.0</td>\n",
       "    </tr>\n",
       "    <tr>\n",
       "      <th>2001-01-04</th>\n",
       "      <td>1349.00</td>\n",
       "      <td>1304.00</td>\n",
       "      <td>0.6648</td>\n",
       "      <td>0.9253</td>\n",
       "      <td>1360.00</td>\n",
       "      <td>1365.50</td>\n",
       "      <td>1341.50</td>\n",
       "      <td>110846.0</td>\n",
       "    </tr>\n",
       "    <tr>\n",
       "      <th>2001-01-05</th>\n",
       "      <td>1304.00</td>\n",
       "      <td>1309.50</td>\n",
       "      <td>0.9253</td>\n",
       "      <td>-0.9638</td>\n",
       "      <td>1345.75</td>\n",
       "      <td>1380.00</td>\n",
       "      <td>1303.00</td>\n",
       "      <td>117776.0</td>\n",
       "    </tr>\n",
       "    <tr>\n",
       "      <th>2001-01-08</th>\n",
       "      <td>1309.50</td>\n",
       "      <td>1308.75</td>\n",
       "      <td>-0.9638</td>\n",
       "      <td>-0.9559</td>\n",
       "      <td>1308.25</td>\n",
       "      <td>1312.50</td>\n",
       "      <td>1287.50</td>\n",
       "      <td>120010.0</td>\n",
       "    </tr>\n",
       "    <tr>\n",
       "      <th>2001-01-09</th>\n",
       "      <td>1308.75</td>\n",
       "      <td>1327.00</td>\n",
       "      <td>-0.9559</td>\n",
       "      <td>-0.5719</td>\n",
       "      <td>1312.00</td>\n",
       "      <td>1325.50</td>\n",
       "      <td>1303.75</td>\n",
       "      <td>115968.0</td>\n",
       "    </tr>\n",
       "  </tbody>\n",
       "</table>\n",
       "</div>"
      ],
      "text/plain": [
       "              close  close_price_shifted  compound  compound_shifted     open  \\\n",
       "2001-01-03  1359.00              1349.00    0.6322            0.6648  1301.00   \n",
       "2001-01-04  1349.00              1304.00    0.6648            0.9253  1360.00   \n",
       "2001-01-05  1304.00              1309.50    0.9253           -0.9638  1345.75   \n",
       "2001-01-08  1309.50              1308.75   -0.9638           -0.9559  1308.25   \n",
       "2001-01-09  1308.75              1327.00   -0.9559           -0.5719  1312.00   \n",
       "\n",
       "               high      low    volume  \n",
       "2001-01-03  1367.25  1288.75  130684.0  \n",
       "2001-01-04  1365.50  1341.50  110846.0  \n",
       "2001-01-05  1380.00  1303.00  117776.0  \n",
       "2001-01-08  1312.50  1287.50  120010.0  \n",
       "2001-01-09  1325.50  1303.75  115968.0  "
      ]
     },
     "execution_count": 27,
     "metadata": {},
     "output_type": "execute_result"
    }
   ],
   "source": [
    "stock_price_data.head()"
   ]
  },
  {
   "cell_type": "markdown",
   "metadata": {},
   "source": [
    "#### Checking for null values in stock_price_data dataframe and dropping the respective rows (if any) :"
   ]
  },
  {
   "cell_type": "code",
   "execution_count": 28,
   "metadata": {},
   "outputs": [
    {
     "data": {
      "text/plain": [
       "close                  0\n",
       "close_price_shifted    1\n",
       "compound               0\n",
       "compound_shifted       1\n",
       "open                   0\n",
       "high                   0\n",
       "low                    0\n",
       "volume                 0\n",
       "dtype: int64"
      ]
     },
     "execution_count": 28,
     "metadata": {},
     "output_type": "execute_result"
    }
   ],
   "source": [
    "stock_price_data.isnull().sum()"
   ]
  },
  {
   "cell_type": "code",
   "execution_count": 29,
   "metadata": {},
   "outputs": [],
   "source": [
    "stock_price_data.dropna(axis=0,inplace=True)"
   ]
  },
  {
   "cell_type": "markdown",
   "metadata": {},
   "source": [
    "#### Creating the output variable (here, teh close_price_shifted or close_price after one day) as y:"
   ]
  },
  {
   "cell_type": "code",
   "execution_count": 30,
   "metadata": {},
   "outputs": [
    {
     "data": {
      "text/plain": [
       "(4918,)"
      ]
     },
     "execution_count": 30,
     "metadata": {},
     "output_type": "execute_result"
    }
   ],
   "source": [
    "y = stock_price_data['close_price_shifted']\n",
    "y.shape"
   ]
  },
  {
   "cell_type": "markdown",
   "metadata": {},
   "source": [
    "#### Creating the predictor variables by dropping the 'close_price_shifted' column from stock_price_data : "
   ]
  },
  {
   "cell_type": "code",
   "execution_count": 31,
   "metadata": {},
   "outputs": [
    {
     "data": {
      "text/html": [
       "<div>\n",
       "<style scoped>\n",
       "    .dataframe tbody tr th:only-of-type {\n",
       "        vertical-align: middle;\n",
       "    }\n",
       "\n",
       "    .dataframe tbody tr th {\n",
       "        vertical-align: top;\n",
       "    }\n",
       "\n",
       "    .dataframe thead th {\n",
       "        text-align: right;\n",
       "    }\n",
       "</style>\n",
       "<table border=\"1\" class=\"dataframe\">\n",
       "  <thead>\n",
       "    <tr style=\"text-align: right;\">\n",
       "      <th></th>\n",
       "      <th>close</th>\n",
       "      <th>compound</th>\n",
       "      <th>compound_shifted</th>\n",
       "      <th>open</th>\n",
       "      <th>high</th>\n",
       "      <th>low</th>\n",
       "      <th>volume</th>\n",
       "    </tr>\n",
       "  </thead>\n",
       "  <tbody>\n",
       "    <tr>\n",
       "      <th>2001-01-03</th>\n",
       "      <td>1359.00</td>\n",
       "      <td>0.6322</td>\n",
       "      <td>0.6648</td>\n",
       "      <td>1301.00</td>\n",
       "      <td>1367.25</td>\n",
       "      <td>1288.75</td>\n",
       "      <td>130684.0</td>\n",
       "    </tr>\n",
       "    <tr>\n",
       "      <th>2001-01-04</th>\n",
       "      <td>1349.00</td>\n",
       "      <td>0.6648</td>\n",
       "      <td>0.9253</td>\n",
       "      <td>1360.00</td>\n",
       "      <td>1365.50</td>\n",
       "      <td>1341.50</td>\n",
       "      <td>110846.0</td>\n",
       "    </tr>\n",
       "    <tr>\n",
       "      <th>2001-01-05</th>\n",
       "      <td>1304.00</td>\n",
       "      <td>0.9253</td>\n",
       "      <td>-0.9638</td>\n",
       "      <td>1345.75</td>\n",
       "      <td>1380.00</td>\n",
       "      <td>1303.00</td>\n",
       "      <td>117776.0</td>\n",
       "    </tr>\n",
       "    <tr>\n",
       "      <th>2001-01-08</th>\n",
       "      <td>1309.50</td>\n",
       "      <td>-0.9638</td>\n",
       "      <td>-0.9559</td>\n",
       "      <td>1308.25</td>\n",
       "      <td>1312.50</td>\n",
       "      <td>1287.50</td>\n",
       "      <td>120010.0</td>\n",
       "    </tr>\n",
       "    <tr>\n",
       "      <th>2001-01-09</th>\n",
       "      <td>1308.75</td>\n",
       "      <td>-0.9559</td>\n",
       "      <td>-0.5719</td>\n",
       "      <td>1312.00</td>\n",
       "      <td>1325.50</td>\n",
       "      <td>1303.75</td>\n",
       "      <td>115968.0</td>\n",
       "    </tr>\n",
       "  </tbody>\n",
       "</table>\n",
       "</div>"
      ],
      "text/plain": [
       "              close  compound  compound_shifted     open     high      low  \\\n",
       "2001-01-03  1359.00    0.6322            0.6648  1301.00  1367.25  1288.75   \n",
       "2001-01-04  1349.00    0.6648            0.9253  1360.00  1365.50  1341.50   \n",
       "2001-01-05  1304.00    0.9253           -0.9638  1345.75  1380.00  1303.00   \n",
       "2001-01-08  1309.50   -0.9638           -0.9559  1308.25  1312.50  1287.50   \n",
       "2001-01-09  1308.75   -0.9559           -0.5719  1312.00  1325.50  1303.75   \n",
       "\n",
       "              volume  \n",
       "2001-01-03  130684.0  \n",
       "2001-01-04  110846.0  \n",
       "2001-01-05  117776.0  \n",
       "2001-01-08  120010.0  \n",
       "2001-01-09  115968.0  "
      ]
     },
     "execution_count": 31,
     "metadata": {},
     "output_type": "execute_result"
    }
   ],
   "source": [
    "x = stock_price_data.drop(['close_price_shifted'],axis=1)\n",
    "x.head()"
   ]
  },
  {
   "cell_type": "markdown",
   "metadata": {},
   "source": [
    "#### Scaling the variables to keep the value between -1 to 1 using MinMaxScaler inorder to restrict huge changes in data :"
   ]
  },
  {
   "cell_type": "code",
   "execution_count": 32,
   "metadata": {},
   "outputs": [],
   "source": [
    "scaler = preprocessing.MinMaxScaler(feature_range=(-1,1))\n",
    "y = scaler.fit_transform(np.array(y).reshape(-1,1))\n",
    "x = scaler.fit_transform(x)"
   ]
  },
  {
   "cell_type": "markdown",
   "metadata": {},
   "source": [
    "#### Creating the Training Set and Testing Set :"
   ]
  },
  {
   "cell_type": "code",
   "execution_count": 33,
   "metadata": {},
   "outputs": [
    {
     "name": "stdout",
     "output_type": "stream",
     "text": [
      "Size of Training set X :  (3935, 7)\n",
      "Size of Test set X :  (982, 7)\n",
      "Size of Training set Y :  (3935, 1)\n",
      "Size of Testing set Y :  (982, 1)\n"
     ]
    }
   ],
   "source": [
    "X_train = x[:train_data_size,]\n",
    "X_test = x[train_data_size + 1: len(x),]\n",
    "y_train = y[:train_data_size,]\n",
    "y_test = y[train_data_size + 1 : len(y),]\n",
    "print('Size of Training set X : ',X_train.shape)\n",
    "print('Size of Test set X : ',X_test.shape)\n",
    "print('Size of Training set Y : ',y_train.shape)\n",
    "print('Size of Testing set Y : ',y_test.shape)"
   ]
  },
  {
   "cell_type": "markdown",
   "metadata": {},
   "source": [
    "#### Reshaping the X_train and X_test to 3D arrays for the model :\n"
   ]
  },
  {
   "cell_type": "code",
   "execution_count": 34,
   "metadata": {},
   "outputs": [],
   "source": [
    "X_train = X_train.reshape(-1,7,1)\n",
    "X_test = X_test.reshape(-1,7,1)"
   ]
  },
  {
   "cell_type": "markdown",
   "metadata": {},
   "source": [
    "## Creating the model :"
   ]
  },
  {
   "cell_type": "markdown",
   "metadata": {},
   "source": [
    "#### Here, as the question demands to learn from it's past values , so we will go for LSTM layers or RNN analogy to perform our task."
   ]
  },
  {
   "cell_type": "code",
   "execution_count": 35,
   "metadata": {},
   "outputs": [
    {
     "name": "stdout",
     "output_type": "stream",
     "text": [
      "Model: \"sequential_1\"\n",
      "_________________________________________________________________\n",
      "Layer (type)                 Output Shape              Param #   \n",
      "=================================================================\n",
      "lstm_1 (LSTM)                (None, 7, 100)            40800     \n",
      "_________________________________________________________________\n",
      "dropout_1 (Dropout)          (None, 7, 100)            0         \n",
      "_________________________________________________________________\n",
      "lstm_2 (LSTM)                (None, 7, 100)            80400     \n",
      "_________________________________________________________________\n",
      "dropout_2 (Dropout)          (None, 7, 100)            0         \n",
      "_________________________________________________________________\n",
      "lstm_3 (LSTM)                (None, 100)               80400     \n",
      "_________________________________________________________________\n",
      "dropout_3 (Dropout)          (None, 100)               0         \n",
      "_________________________________________________________________\n",
      "dense_1 (Dense)              (None, 1)                 101       \n",
      "=================================================================\n",
      "Total params: 201,701\n",
      "Trainable params: 201,701\n",
      "Non-trainable params: 0\n",
      "_________________________________________________________________\n"
     ]
    }
   ],
   "source": [
    "model = Sequential()\n",
    "model.add(LSTM(100, return_sequences=True, activation='tanh',input_shape= X_train.shape[1:]))\n",
    "model.add(Dropout(0.2))\n",
    "model.add(LSTM(100, return_sequences=True, activation='tanh'))\n",
    "model.add(Dropout(0.2))\n",
    "model.add(LSTM(100,return_sequences=False,activation='tanh'))\n",
    "model.add(Dropout(0.2))\n",
    "model.add(Dense(1))\n",
    "\n",
    "model.summary()"
   ]
  },
  {
   "cell_type": "markdown",
   "metadata": {},
   "source": [
    "## Fitting the model on Training Set as well as checking it's performance on Test set :"
   ]
  },
  {
   "cell_type": "code",
   "execution_count": 36,
   "metadata": {},
   "outputs": [
    {
     "name": "stdout",
     "output_type": "stream",
     "text": [
      "Train on 3935 samples, validate on 982 samples\n",
      "Epoch 1/20\n",
      "3935/3935 [==============================] - 12s 3ms/step - loss: 0.0298 - val_loss: 0.0132\n",
      "Epoch 2/20\n",
      "3935/3935 [==============================] - 11s 3ms/step - loss: 0.0084 - val_loss: 0.0155\n",
      "Epoch 3/20\n",
      "3935/3935 [==============================] - 10s 3ms/step - loss: 0.0043 - val_loss: 0.0030\n",
      "Epoch 4/20\n",
      "3935/3935 [==============================] - 10s 3ms/step - loss: 0.0031 - val_loss: 0.0012\n",
      "Epoch 5/20\n",
      "3935/3935 [==============================] - 10s 3ms/step - loss: 0.0024 - val_loss: 0.0142\n",
      "Epoch 6/20\n",
      "3935/3935 [==============================] - 10s 3ms/step - loss: 0.0021 - val_loss: 0.0166\n",
      "Epoch 7/20\n",
      "3935/3935 [==============================] - 10s 2ms/step - loss: 0.0019 - val_loss: 0.0047\n",
      "Epoch 8/20\n",
      "3935/3935 [==============================] - 10s 3ms/step - loss: 0.0017 - val_loss: 0.0135\n",
      "Epoch 9/20\n",
      "3935/3935 [==============================] - 10s 2ms/step - loss: 0.0016 - val_loss: 0.0138\n",
      "Epoch 10/20\n",
      "3935/3935 [==============================] - 10s 2ms/step - loss: 0.0016 - val_loss: 0.0054\n",
      "Epoch 11/20\n",
      "3935/3935 [==============================] - 10s 3ms/step - loss: 0.0015 - val_loss: 0.0202\n",
      "Epoch 12/20\n",
      "3935/3935 [==============================] - 10s 3ms/step - loss: 0.0013 - val_loss: 0.0499\n",
      "Epoch 13/20\n",
      "3935/3935 [==============================] - 10s 3ms/step - loss: 0.0013 - val_loss: 0.0555\n",
      "Epoch 14/20\n",
      "3935/3935 [==============================] - 10s 3ms/step - loss: 0.0013 - val_loss: 0.0501\n",
      "Epoch 15/20\n",
      "3935/3935 [==============================] - 10s 3ms/step - loss: 0.0012 - val_loss: 0.0190\n",
      "Epoch 16/20\n",
      "3935/3935 [==============================] - 10s 3ms/step - loss: 0.0012 - val_loss: 0.0422\n",
      "Epoch 17/20\n",
      "3935/3935 [==============================] - 10s 3ms/step - loss: 0.0012 - val_loss: 0.0522\n",
      "Epoch 18/20\n",
      "3935/3935 [==============================] - 10s 3ms/step - loss: 0.0011 - val_loss: 0.0700\n",
      "Epoch 19/20\n",
      "3935/3935 [==============================] - 10s 3ms/step - loss: 0.0010 - val_loss: 0.0604\n",
      "Epoch 20/20\n",
      "3935/3935 [==============================] - 10s 3ms/step - loss: 0.0010 - val_loss: 0.1199\n"
     ]
    }
   ],
   "source": [
    "model.compile(optimizer='rmsprop',loss='mse')\n",
    "history = model.fit(X_train,y_train, epochs=20, batch_size=10, validation_data=(X_test,y_test))"
   ]
  },
  {
   "cell_type": "markdown",
   "metadata": {},
   "source": [
    "## Plot of Loss vs Epoch for the given Model :"
   ]
  },
  {
   "cell_type": "code",
   "execution_count": 37,
   "metadata": {},
   "outputs": [
    {
     "data": {
      "image/png": "[encoded data removed]",
      "text/plain": [
       "<Figure size 432x288 with 1 Axes>"
      ]
     },
     "metadata": {
      "needs_background": "light"
     },
     "output_type": "display_data"
    }
   ],
   "source": [
    "plt.plot(history.history['loss'])\n",
    "plt.plot(history.history['val_loss'])\n",
    "plt.title('model loss')\n",
    "plt.ylabel('loss')\n",
    "plt.xlabel('epoch')\n",
    "plt.legend(['train', 'test'], loc='upper left')\n",
    "plt.show()"
   ]
  },
  {
   "cell_type": "markdown",
   "metadata": {},
   "source": [
    "## Saving the model and respective Weights :"
   ]
  },
  {
   "cell_type": "code",
   "execution_count": 38,
   "metadata": {},
   "outputs": [],
   "source": [
    "model_json = model.to_json()\n",
    "with open('model.json','w') as file :\n",
    "    file.write(model_json)\n",
    "model.save_weights('model.h5')"
   ]
  },
  {
   "cell_type": "markdown",
   "metadata": {},
   "source": [
    "### With this, we have come to the end of creating a hybrid model for Stock Market Prediction using Numerical and Textual Analysis. The model and weighst are saved as model.json and model.h5 respectiely."
   ]
  }
 ],
 "metadata": {
  "kernelspec": {
   "display_name": "Python 3",
   "language": "python",
   "name": "python3"
  },
  "language_info": {
   "codemirror_mode": {
    "name": "ipython",
    "version": 3
   },
   "file_extension": ".py",
   "mimetype": "text/x-python",
   "name": "python",
   "nbconvert_exporter": "python",
   "pygments_lexer": "ipython3",
   "version": "3.6.12"
  }
 },
 "nbformat": 4,
 "nbformat_minor": 4
}
